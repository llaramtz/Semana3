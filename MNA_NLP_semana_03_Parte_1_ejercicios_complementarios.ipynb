{
  "nbformat": 4,
  "nbformat_minor": 0,
  "metadata": {
    "colab": {
      "provenance": [],
      "collapsed_sections": [
        "QdYX32_EKu-s",
        "Yj_R79CTBbWf"
      ]
    },
    "kernelspec": {
      "name": "python3",
      "display_name": "Python 3"
    }
  },
  "cells": [
    {
      "cell_type": "markdown",
      "source": [
        "#**Maestría en Inteligencia Artificial Aplicada (MNA)**\n",
        "##**Procesamiento de Lenguaje Natural (NLP)**\n",
        "###Prof. Luis Eduardo Falcón Morales\n",
        "###**Semana 3 - Ejercicios Complementarios - Parte 1**\n",
        "### Proceso de Tokenización y Vocabulario.\n",
        "\n",
        "###**NOTA: Estos ejercicios son simplemente para que repases los conceptos de esta semana.**\n",
        "###**No es una tarea o actividad que debas entregar.**\n",
        "\n",
        "\n",
        "\n"
      ],
      "metadata": {
        "id": "kAdC5J82cQmo"
      }
    },
    {
      "cell_type": "markdown",
      "metadata": {
        "id": "1cSL59C1zkTH"
      },
      "source": [
        "#**Tallo (stemming) y Lematización (lemmatization)**\n",
        "\n",
        "###Para implementar las técnicas de tallado (stemming) y lematización (lemmatization) existe una gran variedad de librerías para implementar. \n",
        "\n",
        "###Recordemos que ambas técnicas tratan de normalizar o etandarizar un conjunto de palabras a una secuencia de caracteres raíz (en el caso de stemming) o a la palabra lema. En ambos casos, se trata de ese token estandarizado que estará representando a otro conjunto de tokens o palabras.\n",
        "\n",
        "###Veamos unos ejemplos para clarificar los conceptos."
      ]
    },
    {
      "cell_type": "markdown",
      "source": [
        "#**Métodos para extracción de la secuencia raíz o tallo (stemming)**"
      ],
      "metadata": {
        "id": "QdYX32_EKu-s"
      }
    },
    {
      "cell_type": "markdown",
      "metadata": {
        "id": "4nVB6R9y82S9"
      },
      "source": [
        "## **Porter stemming algorithm**\n",
        "\n",
        "### uno de los más populares algoritmos en inglés desarrollado por Martin Porter: https://tartarus.org/martin/PorterStemmer/   "
      ]
    },
    {
      "cell_type": "code",
      "metadata": {
        "id": "393ztBiDzVwN"
      },
      "source": [
        "import nltk\n",
        "from nltk.stem import PorterStemmer   "
      ],
      "execution_count": 1,
      "outputs": []
    },
    {
      "cell_type": "code",
      "source": [
        "nltk.download('omw-1.4')   # paquete de nltk que ayuda en el proceso de stemming y lemmatization."
      ],
      "metadata": {
        "colab": {
          "base_uri": "https://localhost:8080/"
        },
        "id": "-Efo0UJEdG-6",
        "outputId": "ca1a49a3-40a5-4bef-e53f-73074d0dd128"
      },
      "execution_count": 35,
      "outputs": [
        {
          "output_type": "stream",
          "name": "stderr",
          "text": [
            "[nltk_data] Downloading package omw-1.4 to /root/nltk_data...\n"
          ]
        },
        {
          "output_type": "execute_result",
          "data": {
            "text/plain": [
              "True"
            ]
          },
          "metadata": {},
          "execution_count": 35
        }
      ]
    },
    {
      "cell_type": "code",
      "metadata": {
        "id": "QREEl0rB3Ux9"
      },
      "source": [
        "# creamos un objeto de la clase PorterStemmer\n",
        "ps = PorterStemmer()"
      ],
      "execution_count": 2,
      "outputs": []
    },
    {
      "cell_type": "code",
      "metadata": {
        "colab": {
          "base_uri": "https://localhost:8080/"
        },
        "id": "WsHCN8ug0-Jc",
        "outputId": "3981f9b4-8eaf-4710-fe67-1760fc218af7"
      },
      "source": [
        "# Verbo regular:\n",
        "x = ['visits', 'visited', 'visiting']\n",
        "\n",
        "[ps.stem(w) for w in x]"
      ],
      "execution_count": 3,
      "outputs": [
        {
          "output_type": "execute_result",
          "data": {
            "text/plain": [
              "['visit', 'visit', 'visit']"
            ]
          },
          "metadata": {},
          "execution_count": 3
        }
      ]
    },
    {
      "cell_type": "code",
      "metadata": {
        "colab": {
          "base_uri": "https://localhost:8080/"
        },
        "id": "21PVPjNj4S4d",
        "outputId": "7b530a2c-69fb-4766-9ac2-648066f3d95c"
      },
      "source": [
        "# Verbo irregular:\n",
        "y = ['fall', 'fell', 'fallen', 'falling', 'ring', 'rang', 'rung', 'ringing', 'come', 'came', 'coming', 'built']\n",
        "\n",
        "print([ps.stem(w) for w in y])"
      ],
      "execution_count": 4,
      "outputs": [
        {
          "output_type": "stream",
          "name": "stdout",
          "text": [
            "['fall', 'fell', 'fallen', 'fall', 'ring', 'rang', 'rung', 'ring', 'come', 'came', 'come', 'built']\n"
          ]
        }
      ]
    },
    {
      "cell_type": "code",
      "metadata": {
        "colab": {
          "base_uri": "https://localhost:8080/"
        },
        "id": "TKpE0Kc85cZG",
        "outputId": "68b710e4-4f13-4abd-c381-682d1b0acb28"
      },
      "source": [
        "# otro tipo de palabras...\n",
        "z = ['strange', 'dogs', 'beautiful', 'amazing', 'cats', 'terminator', 'carefully', 'eldest', 'farthest', 'further', 'queries', 'waterbed']\n",
        "\n",
        "print([ps.stem(w) for w in z])\n"
      ],
      "execution_count": 5,
      "outputs": [
        {
          "output_type": "stream",
          "name": "stdout",
          "text": [
            "['strang', 'dog', 'beauti', 'amaz', 'cat', 'termin', 'care', 'eldest', 'farthest', 'further', 'queri', 'waterb']\n"
          ]
        }
      ]
    },
    {
      "cell_type": "markdown",
      "metadata": {
        "id": "X6vbrUyL89Hc"
      },
      "source": [
        "## **Lancaster - Paice/Husk stemming algorithm**\n",
        "\n",
        "#### Algoritmo desarrollado por Chris D. Paice en la Universidad de Lancaster. \n",
        "\n",
        "https://dl.acm.org/doi/pdf/10.1145/101306.101310\n",
        "\n",
        "Generalmente reduce más la longitud de una palabra y es más rápido en general. Podemos decir que es \"más agresivo\" en relación a otros algoritmos, aunque esto pueda generar luego problemas en la interpretación o significado de las salidas generadas."
      ]
    },
    {
      "cell_type": "code",
      "metadata": {
        "id": "Qer94dYq9I-p"
      },
      "source": [
        "from nltk.stem import LancasterStemmer"
      ],
      "execution_count": 6,
      "outputs": []
    },
    {
      "cell_type": "code",
      "metadata": {
        "id": "agZuCoF69om0"
      },
      "source": [
        "ls = LancasterStemmer()"
      ],
      "execution_count": 7,
      "outputs": []
    },
    {
      "cell_type": "code",
      "metadata": {
        "colab": {
          "base_uri": "https://localhost:8080/"
        },
        "id": "_w6JaCi59yFU",
        "outputId": "454300bd-7597-4985-f42b-bb217626c7cd"
      },
      "source": [
        "x = ['visits', 'visited', 'visiting']\n",
        "\n",
        "[ls.stem(w) for w in x]"
      ],
      "execution_count": 8,
      "outputs": [
        {
          "output_type": "execute_result",
          "data": {
            "text/plain": [
              "['visit', 'visit', 'visit']"
            ]
          },
          "metadata": {},
          "execution_count": 8
        }
      ]
    },
    {
      "cell_type": "code",
      "metadata": {
        "colab": {
          "base_uri": "https://localhost:8080/"
        },
        "id": "01F3Qf-191t7",
        "outputId": "91533b98-d9ba-4fb3-9f22-b8368df294e9"
      },
      "source": [
        "y = ['fall', 'fell', 'fallen', 'falling', 'ring', 'rang', 'rung', 'ringing', 'come', 'came', 'coming', 'built', 'were']\n",
        "\n",
        "print([ls.stem(w) for w in y])"
      ],
      "execution_count": 9,
      "outputs": [
        {
          "output_type": "stream",
          "name": "stdout",
          "text": [
            "['fal', 'fel', 'fal', 'fal', 'ring', 'rang', 'rung', 'ring', 'com', 'cam', 'com', 'built', 'wer']\n"
          ]
        }
      ]
    },
    {
      "cell_type": "code",
      "metadata": {
        "colab": {
          "base_uri": "https://localhost:8080/"
        },
        "id": "NjNjsRAI-BA0",
        "outputId": "027ba7ca-109b-40f5-bf43-002498a23c6f"
      },
      "source": [
        "z = ['strange', 'dogs', 'beautiful', 'amazing', 'cats', 'terminator', 'carefully', 'eldest', 'farthest', 'further', 'queries', 'waterbed']\n",
        "\n",
        "print([ls.stem(w) for w in z])"
      ],
      "execution_count": 10,
      "outputs": [
        {
          "output_type": "stream",
          "name": "stdout",
          "text": [
            "['strange', 'dog', 'beauty', 'amaz', 'cat', 'termin', 'car', 'eldest', 'farthest', 'furth', 'query', 'waterb']\n"
          ]
        }
      ]
    },
    {
      "cell_type": "markdown",
      "metadata": {
        "id": "BbGiKTkTwgKZ"
      },
      "source": [
        "## **RegexpStemmer stemming algorithm**\n",
        "\n",
        "### **Rule-base-method**: Lo interesante de este modelo es que puedes construir tus propias reglas y complementarlo con alguno de los otros algoritmos.\n",
        "\n",
        "Puedes consultar su documentación para mayor información:\n",
        "\n",
        "https://www.nltk.org/_modules/nltk/stem/regexp.html \n",
        "\n",
        "\n"
      ]
    },
    {
      "cell_type": "code",
      "metadata": {
        "id": "SqOVuooPwxaA"
      },
      "source": [
        "from nltk.stem import RegexpStemmer"
      ],
      "execution_count": 11,
      "outputs": []
    },
    {
      "cell_type": "code",
      "metadata": {
        "id": "La3-0oflxUPJ"
      },
      "source": [
        "# min : longitud mínima del string para que se aplique la regla:\n",
        "rs = RegexpStemmer(r'ing$|ed$|s$|t$', min=3)   # definimos la regla deseada construyendo un objeto de RegexpStemmer()."
      ],
      "execution_count": 13,
      "outputs": []
    },
    {
      "cell_type": "code",
      "metadata": {
        "id": "859Gfw84yP4w",
        "colab": {
          "base_uri": "https://localhost:8080/"
        },
        "outputId": "32cccba2-02df-435e-ad92-57fbdbfcfc84"
      },
      "source": [
        "x = ['visits', 'visited', 'visiting']\n",
        "\n",
        "[rs.stem(w) for w in x]"
      ],
      "execution_count": 14,
      "outputs": [
        {
          "output_type": "execute_result",
          "data": {
            "text/plain": [
              "['visit', 'visit', 'visit']"
            ]
          },
          "metadata": {},
          "execution_count": 14
        }
      ]
    },
    {
      "cell_type": "code",
      "metadata": {
        "colab": {
          "base_uri": "https://localhost:8080/"
        },
        "id": "iAfavbdXyWAa",
        "outputId": "33edb8c2-188d-4f35-b87b-0f38923b3b82"
      },
      "source": [
        "y = ['fall', 'fell', 'fallen', 'falling', 'ring', 'rang', 'rung', 'ringing', 'come', 'came', 'coming', 'built', 'were']\n",
        "\n",
        "print([rs.stem(w) for w in y])"
      ],
      "execution_count": 15,
      "outputs": [
        {
          "output_type": "stream",
          "name": "stdout",
          "text": [
            "['fall', 'fell', 'fallen', 'fall', 'r', 'rang', 'rung', 'ring', 'come', 'came', 'com', 'buil', 'were']\n"
          ]
        }
      ]
    },
    {
      "cell_type": "code",
      "metadata": {
        "colab": {
          "base_uri": "https://localhost:8080/"
        },
        "id": "6Zqk8cAuygjw",
        "outputId": "bdfc15d1-34bf-4097-b928-09154b5ce914"
      },
      "source": [
        "z = ['strange', 'dogs', 'beautiful', 'amazing', 'cats', 'terminator', 'carefully', 'eldest', 'farthest', 'further', 'queries', 'waterbed']\n",
        "\n",
        "print([rs.stem(w) for w in z])"
      ],
      "execution_count": 16,
      "outputs": [
        {
          "output_type": "stream",
          "name": "stdout",
          "text": [
            "['strange', 'dog', 'beautiful', 'amaz', 'cat', 'terminator', 'carefully', 'eldes', 'farthes', 'further', 'querie', 'waterb']\n"
          ]
        }
      ]
    },
    {
      "cell_type": "markdown",
      "metadata": {
        "id": "Evd9wbyt38sI"
      },
      "source": [
        "### Podemos crear nuestras propias reglas en **Español** con RegexpStemmer, ya que no depende estrictamente de algún idioma en particular:"
      ]
    },
    {
      "cell_type": "code",
      "metadata": {
        "id": "N4KvWi364D9J"
      },
      "source": [
        "srs = RegexpStemmer('ron$|ste$|é|ando|ar$', min=5)  "
      ],
      "execution_count": 23,
      "outputs": []
    },
    {
      "cell_type": "code",
      "metadata": {
        "colab": {
          "base_uri": "https://localhost:8080/"
        },
        "id": "jgGE6LGZ4gNQ",
        "outputId": "38533f69-3149-4411-fcfa-f8816f15e0c0"
      },
      "source": [
        "x = ['jugar', 'jugando', 'jugué', 'jugaste', 'caminé', 'almorcé', 'fué', 'fueron', 'fuiste', 'aceptar', 'aceptó', 'aceptaron', 'reiste']\n",
        "\n",
        "print([srs.stem(w) for w in x])"
      ],
      "execution_count": 24,
      "outputs": [
        {
          "output_type": "stream",
          "name": "stdout",
          "text": [
            "['jug', 'jug', 'jugu', 'juga', 'camin', 'almorc', 'fué', 'fue', 'fui', 'acept', 'aceptó', 'acepta', 'rei']\n"
          ]
        }
      ]
    },
    {
      "cell_type": "markdown",
      "metadata": {
        "id": "H_GVf_ebzCDR"
      },
      "source": [
        "## **Snowball - Porter2 stemming algorithm**\n",
        "\n",
        "### Es un algoritmo que mejora el algoritmo de Porter, principalmente en cuanto al tiempo de cómputo. \n",
        "\n",
        "###Pero la principal diferencia es que soporta diferentes idiomas, entre ellos el **Español**."
      ]
    },
    {
      "cell_type": "code",
      "metadata": {
        "id": "ihk3HlEe0jh5"
      },
      "source": [
        "from nltk.stem import SnowballStemmer"
      ],
      "execution_count": 25,
      "outputs": []
    },
    {
      "cell_type": "code",
      "metadata": {
        "colab": {
          "base_uri": "https://localhost:8080/"
        },
        "id": "wV87iCk7caQg",
        "outputId": "7069deee-ab5e-4397-a829-9000f40ef6c3"
      },
      "source": [
        "print(SnowballStemmer.languages)"
      ],
      "execution_count": 26,
      "outputs": [
        {
          "output_type": "stream",
          "name": "stdout",
          "text": [
            "('arabic', 'danish', 'dutch', 'english', 'finnish', 'french', 'german', 'hungarian', 'italian', 'norwegian', 'porter', 'portuguese', 'romanian', 'russian', 'spanish', 'swedish')\n"
          ]
        }
      ]
    },
    {
      "cell_type": "code",
      "metadata": {
        "id": "r2zFoVQx0_Dw"
      },
      "source": [
        "ss = SnowballStemmer(\"english\")"
      ],
      "execution_count": 27,
      "outputs": []
    },
    {
      "cell_type": "code",
      "metadata": {
        "colab": {
          "base_uri": "https://localhost:8080/"
        },
        "id": "pTWmLOLX1ydh",
        "outputId": "ed05fa29-8838-4a61-d028-0aef59220f22"
      },
      "source": [
        "x = ['visits', 'visited', 'visiting']\n",
        "\n",
        "[ss.stem(w) for w in x]"
      ],
      "execution_count": 28,
      "outputs": [
        {
          "output_type": "execute_result",
          "data": {
            "text/plain": [
              "['visit', 'visit', 'visit']"
            ]
          },
          "metadata": {},
          "execution_count": 28
        }
      ]
    },
    {
      "cell_type": "code",
      "metadata": {
        "colab": {
          "base_uri": "https://localhost:8080/"
        },
        "id": "etcz4GCM11zo",
        "outputId": "f1c7a30a-ed7c-49b7-e2a1-ef9c555b2ec9"
      },
      "source": [
        "y = ['fall', 'fell', 'fallen', 'falling', 'ring', 'rang', 'rung', 'ringing', 'come', 'came', 'coming', 'built', 'were']\n",
        "\n",
        "print([ss.stem(w) for w in y])"
      ],
      "execution_count": 29,
      "outputs": [
        {
          "output_type": "stream",
          "name": "stdout",
          "text": [
            "['fall', 'fell', 'fallen', 'fall', 'ring', 'rang', 'rung', 'ring', 'come', 'came', 'come', 'built', 'were']\n"
          ]
        }
      ]
    },
    {
      "cell_type": "code",
      "metadata": {
        "colab": {
          "base_uri": "https://localhost:8080/"
        },
        "id": "w9EXplA619ds",
        "outputId": "4d57c94c-edfa-4d6f-ecd1-d27796bc6b42"
      },
      "source": [
        "z = ['strange', 'dogs', 'beautiful', 'amazing', 'cats', 'terminator', 'carefully', 'eldest', 'farthest', 'further', 'queries', 'waterbed']\n",
        "\n",
        "print([ss.stem(w) for w in z])"
      ],
      "execution_count": 30,
      "outputs": [
        {
          "output_type": "stream",
          "name": "stdout",
          "text": [
            "['strang', 'dog', 'beauti', 'amaz', 'cat', 'termin', 'care', 'eldest', 'farthest', 'further', 'queri', 'waterb']\n"
          ]
        }
      ]
    },
    {
      "cell_type": "markdown",
      "metadata": {
        "id": "xExutVXp2Pof"
      },
      "source": [
        "### **Veamos algunos casos en Español:**"
      ]
    },
    {
      "cell_type": "code",
      "metadata": {
        "id": "yqzeh4tT2TQI"
      },
      "source": [
        "sss = SnowballStemmer(\"spanish\")"
      ],
      "execution_count": 31,
      "outputs": []
    },
    {
      "cell_type": "code",
      "metadata": {
        "colab": {
          "base_uri": "https://localhost:8080/"
        },
        "id": "VwUovJmM2XaA",
        "outputId": "4100ac7b-32cc-4aa1-f4a6-3887a8150c11"
      },
      "source": [
        "x = ['jugar', 'jugando', 'jugué', 'jugaste', 'jugo', 'caminé', 'almorcé', 'fué', 'fueron', 'fuiste', 'aceptar', 'aceptó', 'aceptaron', 'aceptaste']\n",
        "\n",
        "print([sss.stem(w) for w in x])"
      ],
      "execution_count": 32,
      "outputs": [
        {
          "output_type": "stream",
          "name": "stdout",
          "text": [
            "['jug', 'jug', 'jug', 'jug', 'jug', 'camin', 'almorc', 'fue', 'fueron', 'fuist', 'acept', 'acept', 'acept', 'acept']\n"
          ]
        }
      ]
    },
    {
      "cell_type": "code",
      "source": [
        "# veamos cómo lo hace con un verbo irregular:\n",
        "\n",
        "x = ['hacer', 'hace', 'hizo', 'hiciste', 'hicieron', 'hacéis', 'hacemos', 'hacía', 'haremos', 'haré', 'hecho', 'hagamos', 'haríamos']\n",
        "\n",
        "print([sss.stem(w) for w in x])"
      ],
      "metadata": {
        "colab": {
          "base_uri": "https://localhost:8080/"
        },
        "id": "c726NWzY8Jpg",
        "outputId": "385873b9-19f2-4534-ee19-762443dc3009"
      },
      "execution_count": 34,
      "outputs": [
        {
          "output_type": "stream",
          "name": "stdout",
          "text": [
            "['hac', 'hac', 'hiz', 'hic', 'hic', 'hac', 'hac', 'hac', 'har', 'har', 'hech', 'hag', 'har']\n"
          ]
        }
      ]
    },
    {
      "cell_type": "code",
      "source": [
        "x = ['felizmente', 'felicidades', 'grandioso', 'mejorando', 'mejorado', 'gatos', 'carísimo', 'artistas', 'rápidamente']\n",
        "\n",
        "print([sss.stem(w) for w in x])"
      ],
      "metadata": {
        "colab": {
          "base_uri": "https://localhost:8080/"
        },
        "id": "0NVWADhRJbwN",
        "outputId": "bc9ecf03-2578-4d58-e453-92aa92320f3c"
      },
      "execution_count": 90,
      "outputs": [
        {
          "output_type": "stream",
          "name": "stdout",
          "text": [
            "['feliz', 'felic', 'grandios', 'mejor', 'mejor', 'gat', 'carisim', 'artist', 'rapid']\n"
          ]
        }
      ]
    },
    {
      "cell_type": "markdown",
      "metadata": {
        "id": "Yj_R79CTBbWf"
      },
      "source": [
        "#**Métodos para extracción del lema o lematización (lemmatization)**\n",
        "\n",
        "### Se requiere de la base de datos de WordNet "
      ]
    },
    {
      "cell_type": "code",
      "metadata": {
        "id": "aM9UpwOtBfJg",
        "colab": {
          "base_uri": "https://localhost:8080/"
        },
        "outputId": "62a389fe-05de-4494-fd56-a9f3a6ac5619"
      },
      "source": [
        "from nltk.stem import WordNetLemmatizer\n",
        "nltk.download('wordnet')"
      ],
      "execution_count": 36,
      "outputs": [
        {
          "output_type": "stream",
          "name": "stderr",
          "text": [
            "[nltk_data] Downloading package wordnet to /root/nltk_data...\n"
          ]
        },
        {
          "output_type": "execute_result",
          "data": {
            "text/plain": [
              "True"
            ]
          },
          "metadata": {},
          "execution_count": 36
        }
      ]
    },
    {
      "cell_type": "code",
      "metadata": {
        "id": "aLo5zlsqBoIH"
      },
      "source": [
        "wnl = WordNetLemmatizer() "
      ],
      "execution_count": 37,
      "outputs": []
    },
    {
      "cell_type": "code",
      "metadata": {
        "colab": {
          "base_uri": "https://localhost:8080/"
        },
        "id": "jtw9i0MZB2nP",
        "outputId": "412f7604-9f11-46f6-b3c5-761b07d4cb5a"
      },
      "source": [
        "y = ['fall', 'fell', 'fallen', 'falling', 'feet', 'ring', 'rang', 'rung', 'ringing', 'come', 'came', 'coming', 'built', 'were', 'am', 'is']\n",
        "\n",
        "print([wnl.lemmatize(w) for w in y])"
      ],
      "execution_count": 55,
      "outputs": [
        {
          "output_type": "stream",
          "name": "stdout",
          "text": [
            "['fall', 'fell', 'fallen', 'falling', 'foot', 'ring', 'rang', 'rung', 'ringing', 'come', 'came', 'coming', 'built', 'were', 'am', 'is']\n"
          ]
        }
      ]
    },
    {
      "cell_type": "markdown",
      "metadata": {
        "id": "C433zO21CZIH"
      },
      "source": [
        "###Observa que no llevó a cabo ninguna modificación, esto es porque requiere la información sintáctica de la palabra. \n",
        "\n",
        "###La opción predeterminada es \"noun\" (sustantivo).\n",
        "\n",
        "###En este caso que todos son verbos, veamos como esta información nos ayuda a obtener mejores resultados:"
      ]
    },
    {
      "cell_type": "code",
      "metadata": {
        "colab": {
          "base_uri": "https://localhost:8080/"
        },
        "id": "mg32oOSiCtIy",
        "outputId": "314c3e86-7266-478f-bcc4-f220de466151"
      },
      "source": [
        "#verbs\n",
        "z = ['fall', 'fell', 'fallen', 'falling', 'feet', 'ring', 'rang', 'rung', 'ringing', 'come', 'came', 'coming', 'built', 'were', 'am', 'is']\n",
        "\n",
        "print([wnl.lemmatize(w, pos='v') for w in z])"
      ],
      "execution_count": 56,
      "outputs": [
        {
          "output_type": "stream",
          "name": "stdout",
          "text": [
            "['fall', 'fell', 'fall', 'fall', 'feet', 'ring', 'ring', 'ring', 'ring', 'come', 'come', 'come', 'build', 'be', 'be', 'be']\n"
          ]
        }
      ]
    },
    {
      "cell_type": "code",
      "metadata": {
        "colab": {
          "base_uri": "https://localhost:8080/"
        },
        "id": "ZDQehaJhC7iv",
        "outputId": "3ce02077-805b-44f1-e80f-14d789b7ce47"
      },
      "source": [
        "z = ['stranger', 'dogs', 'beautifully', 'amazing', 'whiter', 'terminator', 'carefully', 'eldest', 'farthest', 'further', 'queries', 'waterbed']\n",
        "# verbs\n",
        "print([wnl.lemmatize(w, 'v') for w in z])"
      ],
      "execution_count": 40,
      "outputs": [
        {
          "output_type": "stream",
          "name": "stdout",
          "text": [
            "['stranger', 'dog', 'beautifully', 'amaze', 'whiter', 'terminator', 'carefully', 'eldest', 'farthest', 'further', 'query', 'waterbed']\n"
          ]
        }
      ]
    },
    {
      "cell_type": "code",
      "metadata": {
        "colab": {
          "base_uri": "https://localhost:8080/"
        },
        "id": "-DrkmOQ4DQz_",
        "outputId": "462aeb6a-cb1e-4488-9bdb-f20570b03590"
      },
      "source": [
        "# nouns\n",
        "z = ['languages', 'dogs', 'developer', 'nationalism', 'artist', 'government', 'happiness', 'championship', 'station']\n",
        "\n",
        "print([wnl.lemmatize(w, 'n') for w in z])"
      ],
      "execution_count": 60,
      "outputs": [
        {
          "output_type": "stream",
          "name": "stdout",
          "text": [
            "['language', 'dog', 'developer', 'nationalism', 'artist', 'government', 'happiness', 'championship', 'station']\n"
          ]
        }
      ]
    },
    {
      "cell_type": "code",
      "metadata": {
        "colab": {
          "base_uri": "https://localhost:8080/"
        },
        "id": "NNHBI19DDemg",
        "outputId": "47e3a72f-b3f7-47c4-929b-31e4f6c08a09"
      },
      "source": [
        "# adjectives\n",
        "z = ['tall', 'tallest', 'bigger', 'highest', 'ugliest', 'happier']\n",
        "\n",
        "print([wnl.lemmatize(w, 'a') for w in z])"
      ],
      "execution_count": 46,
      "outputs": [
        {
          "output_type": "stream",
          "name": "stdout",
          "text": [
            "['tall', 'tall', 'big', 'high', 'ugly', 'happy']\n"
          ]
        }
      ]
    },
    {
      "cell_type": "code",
      "metadata": {
        "colab": {
          "base_uri": "https://localhost:8080/"
        },
        "id": "G8f0_mOvgIkf",
        "outputId": "baf55760-790d-434e-fafe-32965504d08a"
      },
      "source": [
        "# adverbios\n",
        "z = ['openly', 'actually', 'better']\n",
        "\n",
        "print([wnl.lemmatize(w, 'r') for w in z])"
      ],
      "execution_count": 75,
      "outputs": [
        {
          "output_type": "stream",
          "name": "stdout",
          "text": [
            "['openly', 'actually', 'well']\n"
          ]
        }
      ]
    },
    {
      "cell_type": "markdown",
      "source": [
        "Más adelante lo combinaremos con los métodos llamados POStag, que clasifica precisamente cada palabra como verbo, adjetivo, etc."
      ],
      "metadata": {
        "id": "VEkl6fkgI-1c"
      }
    },
    {
      "cell_type": "markdown",
      "metadata": {
        "id": "uNgfhho3q25H"
      },
      "source": [
        "## Comparación tabular:"
      ]
    },
    {
      "cell_type": "code",
      "metadata": {
        "id": "7UNG6YVbq6J8",
        "colab": {
          "base_uri": "https://localhost:8080/"
        },
        "outputId": "f8b0d9fc-7051-41e7-fcf1-76c879f6dbff"
      },
      "source": [
        "print(\"{0:20}{1:20}{2:20}\".format(\"Word\",\"Porter Stemmer\",\"lancaster Stemmer\"))\n",
        "for word in y:\n",
        "    print(\"{0:20}{1:20}{2:20}\".format(word, ps.stem(word),ls.stem(word)))"
      ],
      "execution_count": 77,
      "outputs": [
        {
          "output_type": "stream",
          "name": "stdout",
          "text": [
            "Word                Porter Stemmer      lancaster Stemmer   \n",
            "fall                fall                fal                 \n",
            "fell                fell                fel                 \n",
            "fallen              fallen              fal                 \n",
            "falling             fall                fal                 \n",
            "feet                feet                feet                \n",
            "ring                ring                ring                \n",
            "rang                rang                rang                \n",
            "rung                rung                rung                \n",
            "ringing             ring                ring                \n",
            "come                come                com                 \n",
            "came                came                cam                 \n",
            "coming              come                com                 \n",
            "built               built               built               \n",
            "were                were                wer                 \n",
            "am                  am                  am                  \n",
            "is                  is                  is                  \n"
          ]
        }
      ]
    },
    {
      "cell_type": "markdown",
      "source": [
        "Aunque existen algunas métricas que miden qué tanto se simplificó un documento con alguno de estos métodos, en la práctica es aplicar varios de ellos y observar cuál te da los mejores resultados en el análisis que estés realizando."
      ],
      "metadata": {
        "id": "vZOtWSGNLJvH"
      }
    },
    {
      "cell_type": "markdown",
      "source": [
        "#**Fin de la Parte 1 de los ejercicios complementarios de la Semana 3**"
      ],
      "metadata": {
        "id": "kGYvdcy1L0NJ"
      }
    }
  ]
}